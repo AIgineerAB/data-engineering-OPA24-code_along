{
 "cells": [
  {
   "cell_type": "code",
   "execution_count": 2,
   "id": "3c9c3dd2",
   "metadata": {},
   "outputs": [],
   "source": [
    "import requests\n",
    "import pandas as pd"
   ]
  },
  {
   "cell_type": "code",
   "execution_count": 3,
   "id": "6433aa57",
   "metadata": {},
   "outputs": [],
   "source": [
    "def get_ads(url_for_search, params):\n",
    "    response = requests.get(url_for_search, params=params)\n",
    "    return response.json()"
   ]
  },
  {
   "cell_type": "markdown",
   "id": "ff63c0ea",
   "metadata": {},
   "source": [
    "##### define url"
   ]
  },
  {
   "cell_type": "code",
   "execution_count": 4,
   "id": "531a5f0d",
   "metadata": {},
   "outputs": [],
   "source": [
    "url = \"https://jobsearch.api.jobtechdev.se\"\n",
    "url_for_search = f\"{url}/search\""
   ]
  },
  {
   "cell_type": "markdown",
   "id": "c95e2780",
   "metadata": {},
   "source": [
    "##### define common query parameters for all pages"
   ]
  },
  {
   "cell_type": "code",
   "execution_count": 5,
   "id": "6fbd80f8",
   "metadata": {},
   "outputs": [],
   "source": [
    "params = {\"limit\":100,\n",
    "          \"occupation-field\": \"6Hq3_tKo_V57\"}"
   ]
  },
  {
   "cell_type": "markdown",
   "id": "94b98aab",
   "metadata": {},
   "source": [
    "##### define specific query parameters for the first page"
   ]
  },
  {
   "cell_type": "code",
   "execution_count": 7,
   "id": "df18ce8f",
   "metadata": {},
   "outputs": [],
   "source": [
    "offset = 0\n",
    "page_params = dict(params, offset=offset)"
   ]
  },
  {
   "cell_type": "markdown",
   "id": "1002b199",
   "metadata": {},
   "source": [
    "##### extract data for the first page"
   ]
  },
  {
   "cell_type": "code",
   "execution_count": 8,
   "id": "005cc9c3",
   "metadata": {},
   "outputs": [],
   "source": [
    "data = get_ads(url_for_search, page_params)"
   ]
  },
  {
   "cell_type": "code",
   "execution_count": 11,
   "id": "5b600e31",
   "metadata": {},
   "outputs": [
    {
     "data": {
      "text/plain": [
       "list"
      ]
     },
     "execution_count": 11,
     "metadata": {},
     "output_type": "execute_result"
    }
   ],
   "source": [
    "type(data[\"hits\"])"
   ]
  },
  {
   "cell_type": "code",
   "execution_count": 12,
   "id": "372a6194",
   "metadata": {},
   "outputs": [
    {
     "data": {
      "text/plain": [
       "100"
      ]
     },
     "execution_count": 12,
     "metadata": {},
     "output_type": "execute_result"
    }
   ],
   "source": [
    "len(data[\"hits\"])"
   ]
  },
  {
   "cell_type": "code",
   "execution_count": 13,
   "id": "b1fd773b",
   "metadata": {},
   "outputs": [
    {
     "data": {
      "text/html": [
       "<div>\n",
       "<style scoped>\n",
       "    .dataframe tbody tr th:only-of-type {\n",
       "        vertical-align: middle;\n",
       "    }\n",
       "\n",
       "    .dataframe tbody tr th {\n",
       "        vertical-align: top;\n",
       "    }\n",
       "\n",
       "    .dataframe thead th {\n",
       "        text-align: right;\n",
       "    }\n",
       "</style>\n",
       "<table border=\"1\" class=\"dataframe\">\n",
       "  <thead>\n",
       "    <tr style=\"text-align: right;\">\n",
       "      <th></th>\n",
       "      <th>relevance</th>\n",
       "      <th>id</th>\n",
       "      <th>external_id</th>\n",
       "      <th>original_id</th>\n",
       "      <th>label</th>\n",
       "      <th>webpage_url</th>\n",
       "      <th>logo_url</th>\n",
       "      <th>headline</th>\n",
       "      <th>application_deadline</th>\n",
       "      <th>number_of_vacancies</th>\n",
       "      <th>...</th>\n",
       "      <th>workplace_address</th>\n",
       "      <th>must_have</th>\n",
       "      <th>nice_to_have</th>\n",
       "      <th>application_contacts</th>\n",
       "      <th>publication_date</th>\n",
       "      <th>last_publication_date</th>\n",
       "      <th>removed</th>\n",
       "      <th>removed_date</th>\n",
       "      <th>source_type</th>\n",
       "      <th>timestamp</th>\n",
       "    </tr>\n",
       "  </thead>\n",
       "  <tbody>\n",
       "    <tr>\n",
       "      <th>0</th>\n",
       "      <td>1.0</td>\n",
       "      <td>29672126</td>\n",
       "      <td>None</td>\n",
       "      <td>None</td>\n",
       "      <td>[]</td>\n",
       "      <td>https://arbetsformedlingen.se/platsbanken/anno...</td>\n",
       "      <td>https://arbetsformedlingen.se/rest/agas/api/v1...</td>\n",
       "      <td>SSAB - Eltekniker/Planerare  Elunderhåll</td>\n",
       "      <td>2025-05-31T23:59:59</td>\n",
       "      <td>1</td>\n",
       "      <td>...</td>\n",
       "      <td>{'municipality': 'Luleå', 'municipality_code':...</td>\n",
       "      <td>{'skills': [], 'languages': [], 'work_experien...</td>\n",
       "      <td>{'skills': [], 'languages': [], 'work_experien...</td>\n",
       "      <td>[]</td>\n",
       "      <td>2025-05-02T09:25:24</td>\n",
       "      <td>2025-05-31T23:59:59</td>\n",
       "      <td>False</td>\n",
       "      <td>None</td>\n",
       "      <td>VIA_ANNONSERA</td>\n",
       "      <td>1746170724657</td>\n",
       "    </tr>\n",
       "    <tr>\n",
       "      <th>1</th>\n",
       "      <td>1.0</td>\n",
       "      <td>29672142</td>\n",
       "      <td>None</td>\n",
       "      <td>None</td>\n",
       "      <td>[]</td>\n",
       "      <td>https://arbetsformedlingen.se/platsbanken/anno...</td>\n",
       "      <td>https://arbetsformedlingen.se/rest/agas/api/v1...</td>\n",
       "      <td>Continuous Improvement (CI) &amp; Process Engineer</td>\n",
       "      <td>2025-05-13T23:59:59</td>\n",
       "      <td>1</td>\n",
       "      <td>...</td>\n",
       "      <td>{'municipality': 'Upplands Väsby', 'municipali...</td>\n",
       "      <td>{'skills': [], 'languages': [], 'work_experien...</td>\n",
       "      <td>{'skills': [], 'languages': [], 'work_experien...</td>\n",
       "      <td>[]</td>\n",
       "      <td>2025-05-02T09:20:14</td>\n",
       "      <td>2025-05-13T23:59:59</td>\n",
       "      <td>False</td>\n",
       "      <td>None</td>\n",
       "      <td>VIA_ANNONSERA</td>\n",
       "      <td>1746170414637</td>\n",
       "    </tr>\n",
       "    <tr>\n",
       "      <th>2</th>\n",
       "      <td>1.0</td>\n",
       "      <td>29672143</td>\n",
       "      <td>46-559384-1058-5883826-1</td>\n",
       "      <td>None</td>\n",
       "      <td>[]</td>\n",
       "      <td>https://arbetsformedlingen.se/platsbanken/anno...</td>\n",
       "      <td>None</td>\n",
       "      <td>Junior Konsult inom Processutveckling och Proj...</td>\n",
       "      <td>2025-06-19T23:59:59</td>\n",
       "      <td>1</td>\n",
       "      <td>...</td>\n",
       "      <td>{'municipality': 'Uppsala', 'municipality_code...</td>\n",
       "      <td>{'skills': [], 'languages': [], 'work_experien...</td>\n",
       "      <td>{'skills': [], 'languages': [], 'work_experien...</td>\n",
       "      <td>[{'name': None, 'description': 'Oliver Rydberg...</td>\n",
       "      <td>2025-05-02T09:19:45</td>\n",
       "      <td>2025-06-19T23:59:59</td>\n",
       "      <td>False</td>\n",
       "      <td>None</td>\n",
       "      <td>VIA_PLATSBANKEN_DXA</td>\n",
       "      <td>1746170385277</td>\n",
       "    </tr>\n",
       "    <tr>\n",
       "      <th>3</th>\n",
       "      <td>1.0</td>\n",
       "      <td>29672117</td>\n",
       "      <td>46-556902-6767-421812681471dfd5496</td>\n",
       "      <td>None</td>\n",
       "      <td>[]</td>\n",
       "      <td>https://arbetsformedlingen.se/platsbanken/anno...</td>\n",
       "      <td>https://arbetsformedlingen.se/rest/agas/api/v1...</td>\n",
       "      <td>Terri söker erfaren konstruktör - Forma framti...</td>\n",
       "      <td>2025-05-25T23:59:59</td>\n",
       "      <td>1</td>\n",
       "      <td>...</td>\n",
       "      <td>{'municipality': 'Växjö', 'municipality_code':...</td>\n",
       "      <td>{'skills': [], 'languages': [], 'work_experien...</td>\n",
       "      <td>{'skills': [], 'languages': [], 'work_experien...</td>\n",
       "      <td>[{'name': None, 'description': 'Linnéa Furudah...</td>\n",
       "      <td>2025-05-02T09:19:06</td>\n",
       "      <td>2025-05-25T23:59:59</td>\n",
       "      <td>False</td>\n",
       "      <td>None</td>\n",
       "      <td>VIA_PLATSBANKEN_DXA</td>\n",
       "      <td>1746170346534</td>\n",
       "    </tr>\n",
       "    <tr>\n",
       "      <th>4</th>\n",
       "      <td>1.0</td>\n",
       "      <td>29672116</td>\n",
       "      <td>46-556902-6767-421813681471c73e0b0</td>\n",
       "      <td>None</td>\n",
       "      <td>[]</td>\n",
       "      <td>https://arbetsformedlingen.se/platsbanken/anno...</td>\n",
       "      <td>https://arbetsformedlingen.se/rest/agas/api/v1...</td>\n",
       "      <td>Terri söker erfaren konstruktör - Forma framti...</td>\n",
       "      <td>2025-05-25T23:59:59</td>\n",
       "      <td>1</td>\n",
       "      <td>...</td>\n",
       "      <td>{'municipality': 'Älmhult', 'municipality_code...</td>\n",
       "      <td>{'skills': [], 'languages': [], 'work_experien...</td>\n",
       "      <td>{'skills': [], 'languages': [], 'work_experien...</td>\n",
       "      <td>[{'name': None, 'description': 'Linnéa Furudah...</td>\n",
       "      <td>2025-05-02T09:18:36</td>\n",
       "      <td>2025-05-25T23:59:59</td>\n",
       "      <td>False</td>\n",
       "      <td>None</td>\n",
       "      <td>VIA_PLATSBANKEN_DXA</td>\n",
       "      <td>1746170316280</td>\n",
       "    </tr>\n",
       "  </tbody>\n",
       "</table>\n",
       "<p>5 rows × 37 columns</p>\n",
       "</div>"
      ],
      "text/plain": [
       "   relevance        id                         external_id original_id label  \\\n",
       "0        1.0  29672126                                None        None    []   \n",
       "1        1.0  29672142                                None        None    []   \n",
       "2        1.0  29672143            46-559384-1058-5883826-1        None    []   \n",
       "3        1.0  29672117  46-556902-6767-421812681471dfd5496        None    []   \n",
       "4        1.0  29672116  46-556902-6767-421813681471c73e0b0        None    []   \n",
       "\n",
       "                                         webpage_url  \\\n",
       "0  https://arbetsformedlingen.se/platsbanken/anno...   \n",
       "1  https://arbetsformedlingen.se/platsbanken/anno...   \n",
       "2  https://arbetsformedlingen.se/platsbanken/anno...   \n",
       "3  https://arbetsformedlingen.se/platsbanken/anno...   \n",
       "4  https://arbetsformedlingen.se/platsbanken/anno...   \n",
       "\n",
       "                                            logo_url  \\\n",
       "0  https://arbetsformedlingen.se/rest/agas/api/v1...   \n",
       "1  https://arbetsformedlingen.se/rest/agas/api/v1...   \n",
       "2                                               None   \n",
       "3  https://arbetsformedlingen.se/rest/agas/api/v1...   \n",
       "4  https://arbetsformedlingen.se/rest/agas/api/v1...   \n",
       "\n",
       "                                            headline application_deadline  \\\n",
       "0           SSAB - Eltekniker/Planerare  Elunderhåll  2025-05-31T23:59:59   \n",
       "1     Continuous Improvement (CI) & Process Engineer  2025-05-13T23:59:59   \n",
       "2  Junior Konsult inom Processutveckling och Proj...  2025-06-19T23:59:59   \n",
       "3  Terri söker erfaren konstruktör - Forma framti...  2025-05-25T23:59:59   \n",
       "4  Terri söker erfaren konstruktör - Forma framti...  2025-05-25T23:59:59   \n",
       "\n",
       "   number_of_vacancies  ...  \\\n",
       "0                    1  ...   \n",
       "1                    1  ...   \n",
       "2                    1  ...   \n",
       "3                    1  ...   \n",
       "4                    1  ...   \n",
       "\n",
       "                                   workplace_address  \\\n",
       "0  {'municipality': 'Luleå', 'municipality_code':...   \n",
       "1  {'municipality': 'Upplands Väsby', 'municipali...   \n",
       "2  {'municipality': 'Uppsala', 'municipality_code...   \n",
       "3  {'municipality': 'Växjö', 'municipality_code':...   \n",
       "4  {'municipality': 'Älmhult', 'municipality_code...   \n",
       "\n",
       "                                           must_have  \\\n",
       "0  {'skills': [], 'languages': [], 'work_experien...   \n",
       "1  {'skills': [], 'languages': [], 'work_experien...   \n",
       "2  {'skills': [], 'languages': [], 'work_experien...   \n",
       "3  {'skills': [], 'languages': [], 'work_experien...   \n",
       "4  {'skills': [], 'languages': [], 'work_experien...   \n",
       "\n",
       "                                        nice_to_have  \\\n",
       "0  {'skills': [], 'languages': [], 'work_experien...   \n",
       "1  {'skills': [], 'languages': [], 'work_experien...   \n",
       "2  {'skills': [], 'languages': [], 'work_experien...   \n",
       "3  {'skills': [], 'languages': [], 'work_experien...   \n",
       "4  {'skills': [], 'languages': [], 'work_experien...   \n",
       "\n",
       "                                application_contacts     publication_date  \\\n",
       "0                                                 []  2025-05-02T09:25:24   \n",
       "1                                                 []  2025-05-02T09:20:14   \n",
       "2  [{'name': None, 'description': 'Oliver Rydberg...  2025-05-02T09:19:45   \n",
       "3  [{'name': None, 'description': 'Linnéa Furudah...  2025-05-02T09:19:06   \n",
       "4  [{'name': None, 'description': 'Linnéa Furudah...  2025-05-02T09:18:36   \n",
       "\n",
       "  last_publication_date removed removed_date          source_type  \\\n",
       "0   2025-05-31T23:59:59   False         None        VIA_ANNONSERA   \n",
       "1   2025-05-13T23:59:59   False         None        VIA_ANNONSERA   \n",
       "2   2025-06-19T23:59:59   False         None  VIA_PLATSBANKEN_DXA   \n",
       "3   2025-05-25T23:59:59   False         None  VIA_PLATSBANKEN_DXA   \n",
       "4   2025-05-25T23:59:59   False         None  VIA_PLATSBANKEN_DXA   \n",
       "\n",
       "       timestamp  \n",
       "0  1746170724657  \n",
       "1  1746170414637  \n",
       "2  1746170385277  \n",
       "3  1746170346534  \n",
       "4  1746170316280  \n",
       "\n",
       "[5 rows x 37 columns]"
      ]
     },
     "execution_count": 13,
     "metadata": {},
     "output_type": "execute_result"
    }
   ],
   "source": [
    "data_page_one = pd.DataFrame(data[\"hits\"])\n",
    "data_page_one.head()"
   ]
  },
  {
   "cell_type": "code",
   "execution_count": 15,
   "id": "46cf6ab1",
   "metadata": {},
   "outputs": [
    {
     "data": {
      "text/plain": [
       "(100,)"
      ]
     },
     "execution_count": 15,
     "metadata": {},
     "output_type": "execute_result"
    }
   ],
   "source": [
    "data_page_one[\"id\"].unique().shape"
   ]
  },
  {
   "cell_type": "markdown",
   "id": "51f07206",
   "metadata": {},
   "source": [
    "##### define specific query parameters for second page"
   ]
  },
  {
   "cell_type": "code",
   "execution_count": 16,
   "id": "9844f2f9",
   "metadata": {},
   "outputs": [],
   "source": [
    "offset = 100\n",
    "page_params = dict(params, offset=offset)"
   ]
  },
  {
   "cell_type": "markdown",
   "id": "60ad2592",
   "metadata": {},
   "source": [
    "##### extract data for second page"
   ]
  },
  {
   "cell_type": "code",
   "execution_count": 17,
   "id": "464fbcc3",
   "metadata": {},
   "outputs": [],
   "source": [
    "data = get_ads(url_for_search, page_params)"
   ]
  },
  {
   "cell_type": "code",
   "execution_count": 18,
   "id": "7c5a9b73",
   "metadata": {},
   "outputs": [],
   "source": [
    "data_page_two = pd.DataFrame(data[\"hits\"])"
   ]
  },
  {
   "cell_type": "code",
   "execution_count": 19,
   "id": "4addd60d",
   "metadata": {},
   "outputs": [
    {
     "data": {
      "text/plain": [
       "(100,)"
      ]
     },
     "execution_count": 19,
     "metadata": {},
     "output_type": "execute_result"
    }
   ],
   "source": [
    "data_page_two[\"id\"].unique().shape"
   ]
  },
  {
   "cell_type": "markdown",
   "id": "4e51c3d7",
   "metadata": {},
   "source": [
    "##### check if page one and two are all unique job ads"
   ]
  },
  {
   "cell_type": "code",
   "execution_count": 20,
   "id": "47d6e984",
   "metadata": {},
   "outputs": [],
   "source": [
    "data_combined = pd.concat([data_page_one, data_page_two],ignore_index=True)"
   ]
  },
  {
   "cell_type": "code",
   "execution_count": 21,
   "id": "d5ffb531",
   "metadata": {},
   "outputs": [
    {
     "data": {
      "text/plain": [
       "(200,)"
      ]
     },
     "execution_count": 21,
     "metadata": {},
     "output_type": "execute_result"
    }
   ],
   "source": [
    "data_combined[\"id\"].unique().shape"
   ]
  },
  {
   "cell_type": "markdown",
   "id": "f94b742d",
   "metadata": {},
   "source": [
    "##### generator function called jobsearch_resource()\n",
    "- it uses while loop to extract data\n",
    "- for each loop, it extracts one page of data and yield the job ads\n",
    "- when we execute this generator function, we produce a generator object -> this generator object remembers everything yielded in all pages\n",
    "- data from the generator object can only be consumed ONCE, afterwards, data points disappear"
   ]
  },
  {
   "cell_type": "code",
   "execution_count": null,
   "id": "84a5f5e3",
   "metadata": {},
   "outputs": [],
   "source": [
    "def jobsearch_resource(params):\n",
    "    url = \"https://jobsearch.api.jobtechdev.se\"\n",
    "    url_for_search = f\"{url}/search\"\n",
    "    limit = params.get(\"limit\", 100)\n",
    "    offset = 0\n",
    "\n",
    "    while True:\n",
    "\n",
    "        #for each page\n",
    "        page_params = dict(params, offset=offset)\n",
    "        \n",
    "        data = get_ads(url_for_search, page_params)\n",
    "        hits = data.get(\"hits\", [])\n",
    "\n",
    "        #if there is no data for this page, exist here\n",
    "        if not hits: \n",
    "            break\n",
    "\n",
    "        #if there is data for this page\n",
    "        for ad in hits:\n",
    "            yield ad\n",
    "\n",
    "        #if the page is not full, exist here\n",
    "        if len(hits) < limit or offset > 1900:\n",
    "            break\n",
    "        \n",
    "        #for next page\n",
    "        offset += limit"
   ]
  },
  {
   "cell_type": "markdown",
   "id": "70189368",
   "metadata": {},
   "source": [
    "##### illustration of what a generator function can remember when there is a loop inside the function"
   ]
  },
  {
   "cell_type": "code",
   "execution_count": 22,
   "id": "68f8f0f4",
   "metadata": {},
   "outputs": [],
   "source": [
    "# create a simple generator function with a loop inside\n",
    "\n",
    "def count_up_to(n):\n",
    "    \n",
    "    i = 0\n",
    "\n",
    "    while i < n:\n",
    "        yield i\n",
    "        i += 1"
   ]
  },
  {
   "cell_type": "code",
   "execution_count": 23,
   "id": "954f1cd6",
   "metadata": {},
   "outputs": [],
   "source": [
    "# create one generator object by executing this generator function\n",
    "gen = count_up_to(3)"
   ]
  },
  {
   "cell_type": "code",
   "execution_count": 24,
   "id": "543e2a89",
   "metadata": {},
   "outputs": [
    {
     "data": {
      "text/plain": [
       "0"
      ]
     },
     "execution_count": 24,
     "metadata": {},
     "output_type": "execute_result"
    }
   ],
   "source": [
    "# begin to consume memory from the generator object\n",
    "next(gen)"
   ]
  },
  {
   "cell_type": "code",
   "execution_count": 25,
   "id": "2bdad1d6",
   "metadata": {},
   "outputs": [
    {
     "name": "stdout",
     "output_type": "stream",
     "text": [
      "1\n",
      "2\n"
     ]
    }
   ],
   "source": [
    "# continue to consume remaining memory from the same generator object\n",
    "\n",
    "for nr in gen:\n",
    "    print(nr)"
   ]
  },
  {
   "cell_type": "code",
   "execution_count": null,
   "id": "1512c600",
   "metadata": {},
   "outputs": [],
   "source": [
    "# efter we have consumed all data points ONCE, they are not remembered anymore \n",
    "\n",
    "for nr in gen:\n",
    "    print(nr)"
   ]
  },
  {
   "cell_type": "code",
   "execution_count": 27,
   "id": "76dea01c",
   "metadata": {},
   "outputs": [],
   "source": [
    "# test if you create one generator object from jobsearch_resource() and read teh first job, then you cannot see the first job anylonger"
   ]
  },
  {
   "cell_type": "code",
   "execution_count": null,
   "id": "defb15c6",
   "metadata": {},
   "outputs": [],
   "source": []
  }
 ],
 "metadata": {
  "kernelspec": {
   "display_name": ".venv",
   "language": "python",
   "name": "python3"
  },
  "language_info": {
   "codemirror_mode": {
    "name": "ipython",
    "version": 3
   },
   "file_extension": ".py",
   "mimetype": "text/x-python",
   "name": "python",
   "nbconvert_exporter": "python",
   "pygments_lexer": "ipython3",
   "version": "3.12.6"
  }
 },
 "nbformat": 4,
 "nbformat_minor": 5
}
