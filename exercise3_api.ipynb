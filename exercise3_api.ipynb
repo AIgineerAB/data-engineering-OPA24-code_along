{
 "cells": [
  {
   "cell_type": "markdown",
   "metadata": {},
   "source": [
    "##### Send API get request"
   ]
  },
  {
   "cell_type": "code",
   "execution_count": 22,
   "metadata": {},
   "outputs": [],
   "source": [
    "import requests\n",
    "import os\n",
    "import datetime\n",
    "\n",
    "weather_api_key = os.getenv(\"WEATHER_API_KEY\")"
   ]
  },
  {
   "cell_type": "code",
   "execution_count": 12,
   "metadata": {},
   "outputs": [],
   "source": [
    "city = \"London\"\n",
    "url = f\"https://api.openweathermap.org/data/2.5/weather?q={city}&appid={weather_api_key}&units=metric\"\n",
    "\n",
    "response = requests.get(url)\n",
    "data = response.json()\n",
    "#data"
   ]
  },
  {
   "cell_type": "markdown",
   "metadata": {},
   "source": [
    "##### Difference between return and yield keywords"
   ]
  },
  {
   "cell_type": "markdown",
   "metadata": {},
   "source": [
    "##### return keyword"
   ]
  },
  {
   "cell_type": "code",
   "execution_count": null,
   "metadata": {},
   "outputs": [],
   "source": [
    "def fetch_weather(city):\n",
    "    url = f\"https://api.openweathermap.org/data/2.5/weather?q={city}&appid={weather_api_key}&units=metric\"\n",
    "    response = requests.get(url)\n",
    "    if response.status_code == 200:\n",
    "        return response.json()\n",
    "    else:\n",
    "        return f\"Failed to fetch data for {city}\""
   ]
  },
  {
   "cell_type": "code",
   "execution_count": 14,
   "metadata": {},
   "outputs": [
    {
     "name": "stdout",
     "output_type": "stream",
     "text": [
      "{'coord': {'lon': -0.1257, 'lat': 51.5085}, 'weather': [{'id': 801, 'main': 'Clouds', 'description': 'few clouds', 'icon': '02d'}], 'base': 'stations', 'main': {'temp': 8.8, 'feels_like': 7.6, 'temp_min': 7.23, 'temp_max': 9.99, 'pressure': 1029, 'humidity': 70, 'sea_level': 1029, 'grnd_level': 1024}, 'visibility': 10000, 'wind': {'speed': 2.24, 'deg': 60, 'gust': 5.36}, 'clouds': {'all': 19}, 'dt': 1744190839, 'sys': {'type': 2, 'id': 268730, 'country': 'GB', 'sunrise': 1744175850, 'sunset': 1744224371}, 'timezone': 3600, 'id': 2643743, 'name': 'London', 'cod': 200}\n"
     ]
    }
   ],
   "source": [
    "#when we use return keyword, data is fetched directly \n",
    "print(fetch_weather(\"London\"))"
   ]
  },
  {
   "cell_type": "markdown",
   "metadata": {},
   "source": [
    "##### yield keyword for lazy evalutation"
   ]
  },
  {
   "cell_type": "code",
   "execution_count": null,
   "metadata": {},
   "outputs": [],
   "source": [
    "def fetch_multiple_cities(cities):\n",
    "    for city in cities:\n",
    "        url = f\"https://api.openweathermap.org/data/2.5/weather?q={city}&appid={weather_api_key}&units=metric\"\n",
    "        response = requests.get(url)\n",
    "        \n",
    "        if response.status_code == 200:\n",
    "            yield response.json()\n",
    "        else: \n",
    "            yield f\"Failed to fetch data for {city}\""
   ]
  },
  {
   "cell_type": "code",
   "execution_count": 16,
   "metadata": {},
   "outputs": [],
   "source": [
    "cities = [\"London\", \"New York\", \"Tokyo\"]\n",
    "\n",
    "weather_generator = fetch_multiple_cities(cities)"
   ]
  },
  {
   "cell_type": "code",
   "execution_count": 17,
   "metadata": {},
   "outputs": [
    {
     "name": "stdout",
     "output_type": "stream",
     "text": [
      "{'coord': {'lon': -0.1257, 'lat': 51.5085}, 'weather': [{'id': 802, 'main': 'Clouds', 'description': 'scattered clouds', 'icon': '03d'}], 'base': 'stations', 'main': {'temp': 9.01, 'feels_like': 6.56, 'temp_min': 7.23, 'temp_max': 10.55, 'pressure': 1029, 'humidity': 70, 'sea_level': 1029, 'grnd_level': 1024}, 'visibility': 10000, 'wind': {'speed': 4.5, 'deg': 39, 'gust': 6.7}, 'clouds': {'all': 26}, 'dt': 1744191065, 'sys': {'type': 2, 'id': 268730, 'country': 'GB', 'sunrise': 1744175850, 'sunset': 1744224371}, 'timezone': 3600, 'id': 2643743, 'name': 'London', 'cod': 200}\n",
      "{'coord': {'lon': -74.006, 'lat': 40.7143}, 'weather': [{'id': 800, 'main': 'Clear', 'description': 'clear sky', 'icon': '01n'}], 'base': 'stations', 'main': {'temp': 0.64, 'feels_like': -5.58, 'temp_min': -1.13, 'temp_max': 1.23, 'pressure': 1023, 'humidity': 45, 'sea_level': 1023, 'grnd_level': 1021}, 'visibility': 10000, 'wind': {'speed': 8.23, 'deg': 310}, 'clouds': {'all': 0}, 'dt': 1744190945, 'sys': {'type': 1, 'id': 4610, 'country': 'US', 'sunrise': 1744194363, 'sunset': 1744241314}, 'timezone': -14400, 'id': 5128581, 'name': 'New York', 'cod': 200}\n",
      "{'coord': {'lon': 139.6917, 'lat': 35.6895}, 'weather': [{'id': 802, 'main': 'Clouds', 'description': 'scattered clouds', 'icon': '03n'}], 'base': 'stations', 'main': {'temp': 16.23, 'feels_like': 15.42, 'temp_min': 14.79, 'temp_max': 17.92, 'pressure': 1012, 'humidity': 58, 'sea_level': 1012, 'grnd_level': 1010}, 'visibility': 10000, 'wind': {'speed': 7.2, 'deg': 110}, 'clouds': {'all': 40}, 'dt': 1744190888, 'sys': {'type': 2, 'id': 268395, 'country': 'JP', 'sunrise': 1744143410, 'sunset': 1744189712}, 'timezone': 32400, 'id': 1850144, 'name': 'Tokyo', 'cod': 200}\n"
     ]
    }
   ],
   "source": [
    "#for seeing data from the generator object, we neeed to iterate over it\n",
    "for weather_data in weather_generator:\n",
    "    print(weather_data)"
   ]
  },
  {
   "cell_type": "markdown",
   "metadata": {},
   "source": [
    "##### keep parts of data from raw json data"
   ]
  },
  {
   "cell_type": "code",
   "execution_count": 23,
   "metadata": {},
   "outputs": [],
   "source": [
    "def fetch_multiple_cities(cities):\n",
    "    for city in cities:\n",
    "        url = f\"https://api.openweathermap.org/data/2.5/weather?q={city}&appid={weather_api_key}&units=metric\"\n",
    "        response = requests.get(url)\n",
    "\n",
    "        if response.status_code == 200:\n",
    "            # yield one dictionary with parts of data, instead of yielding the entire raw json data\n",
    "            data = response.json()\n",
    "            timestamp = datetime.datetime.now().strftime(\"%Y/%-m/%-d, %H:%M:%S\")\n",
    "            yield {\"temperature\": data[\"main\"].get(\"temp\"),\n",
    "                   \"timestamp\": timestamp}\n",
    "        else: \n",
    "            yield f\"Failed to fetch data for {city}\""
   ]
  },
  {
   "cell_type": "code",
   "execution_count": 24,
   "metadata": {},
   "outputs": [
    {
     "name": "stdout",
     "output_type": "stream",
     "text": [
      "{'temperature': 9.05, 'timestamp': '2025/4/9, 11:50:42'}\n",
      "{'temperature': 0.61, 'timestamp': '2025/4/9, 11:50:42'}\n",
      "{'temperature': 16.08, 'timestamp': '2025/4/9, 11:50:42'}\n"
     ]
    }
   ],
   "source": [
    "weather_generator = fetch_multiple_cities(cities)\n",
    "\n",
    "#for seeing data from the generator object, we neeed to iterate over it\n",
    "for weather_data in weather_generator:\n",
    "    print(weather_data)"
   ]
  }
 ],
 "metadata": {
  "kernelspec": {
   "display_name": ".venv",
   "language": "python",
   "name": "python3"
  },
  "language_info": {
   "codemirror_mode": {
    "name": "ipython",
    "version": 3
   },
   "file_extension": ".py",
   "mimetype": "text/x-python",
   "name": "python",
   "nbconvert_exporter": "python",
   "pygments_lexer": "ipython3",
   "version": "3.12.6"
  }
 },
 "nbformat": 4,
 "nbformat_minor": 2
}
