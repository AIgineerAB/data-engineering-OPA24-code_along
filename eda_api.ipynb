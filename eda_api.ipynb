{
 "cells": [
  {
   "cell_type": "markdown",
   "metadata": {},
   "source": [
    "# API Basics\n",
    "- API is a general concept about how applications/systems communicate, like exchange data\n",
    "- Types of APIs: REST API, SOAP API etc... (https://aws.amazon.com/what-is/api/)\n",
    "- we can also say API is an additional layer between external applications (client) and data source/database servers (server)\n",
    "- Bee picture: https://medium.com/@techworldwithmilan/rest-api-design-best-practices-2eb5e749d428\n",
    "- REST API is common for data science/AI data sharing, because it's easy for authentication with API key & performace for servers\n",
    "- FASTAPI, flask is a python library for creating REST API\n",
    "- Requests is a python library for sending HTTP requests to servers: https://www.datacamp.com/tutorial/making-http-requests-in-python\n",
    "- Response in JSON format: \n",
    "  - arrays of json object/python dict, if it begins with `[` <br>\n",
    "  `[json_object, json_object...]` <br>\n",
    "  `[python_dict, python_dict...]` \n",
    "  - json_object, if it begins with `{` <br>\n",
    "  `{key: python_dict,\n",
    "    key: value, \n",
    "    ...}`\n",
    "  - depth of data, level of nesting "
   ]
  },
  {
   "cell_type": "markdown",
   "metadata": {},
   "source": [
    "# Understand data from jobtech API \n",
    "- documentation on https://jobsearch.api.jobtechdev.se/ \n",
    "- check code examples under documentation for predefined python functions to get data"
   ]
  },
  {
   "cell_type": "code",
   "execution_count": 2,
   "metadata": {},
   "outputs": [],
   "source": [
    "import requests"
   ]
  },
  {
   "cell_type": "code",
   "execution_count": 3,
   "metadata": {},
   "outputs": [],
   "source": [
    "# base url\n",
    "url = \"https://jobsearch.api.jobtechdev.se\"\n",
    "# endpoint\n",
    "url_for_search = f\"{url}/search\""
   ]
  },
  {
   "cell_type": "code",
   "execution_count": 4,
   "metadata": {},
   "outputs": [],
   "source": [
    "# send a get request to the endpoint and save the response\n",
    "# get is one of the HTTP request one can send out, others are put and post etc..\n",
    "response = requests.get(url_for_search)"
   ]
  },
  {
   "cell_type": "code",
   "execution_count": 5,
   "metadata": {},
   "outputs": [
    {
     "data": {
      "text/plain": [
       "200"
      ]
     },
     "execution_count": 5,
     "metadata": {},
     "output_type": "execute_result"
    }
   ],
   "source": [
    "# status code shows whether the request succeeds\n",
    "# one usually incorporate use of status code in the script of getting data for error handling \n",
    "response.status_code"
   ]
  },
  {
   "cell_type": "code",
   "execution_count": 6,
   "metadata": {},
   "outputs": [
    {
     "data": {
      "text/plain": [
       "dict_keys(['total', 'positions', 'query_time_in_millis', 'result_time_in_millis', 'stats', 'freetext_concepts', 'hits'])"
      ]
     },
     "execution_count": 6,
     "metadata": {},
     "output_type": "execute_result"
    }
   ],
   "source": [
    "# look at the entire raw json data\n",
    "data = response.json()\n",
    "data.keys()"
   ]
  },
  {
   "cell_type": "code",
   "execution_count": 7,
   "metadata": {},
   "outputs": [
    {
     "data": {
      "text/plain": [
       "list"
      ]
     },
     "execution_count": 7,
     "metadata": {},
     "output_type": "execute_result"
    }
   ],
   "source": [
    "# further look at value for \"hits\"\n",
    "# by using type(), we can understand that value for \"hits\" is a list of dictionaries\n",
    "type(data[\"hits\"])"
   ]
  },
  {
   "cell_type": "code",
   "execution_count": 8,
   "metadata": {},
   "outputs": [
    {
     "data": {
      "text/plain": [
       "'System and Automation Lead'"
      ]
     },
     "execution_count": 8,
     "metadata": {},
     "output_type": "execute_result"
    }
   ],
   "source": [
    "# look at one element in the list\n",
    "# it will be a dict, we can look at one key-value pair from this dict\n",
    "data[\"hits\"][0][\"headline\"]"
   ]
  },
  {
   "cell_type": "code",
   "execution_count": 9,
   "metadata": {},
   "outputs": [
    {
     "data": {
      "text/plain": [
       "dict_keys(['total', 'positions', 'query_time_in_millis', 'result_time_in_millis', 'stats', 'freetext_concepts', 'hits'])"
      ]
     },
     "execution_count": 9,
     "metadata": {},
     "output_type": "execute_result"
    }
   ],
   "source": [
    "# use query parameter when sending GET request\n",
    "# on browser, use https://jobsearch.api.jobtechdev.se/search?q=%22l%C3%A4rare%22&limit=100\n",
    "# note the use of ? and & in this extended url with query parameters\n",
    "query = \"lärare\"\n",
    "search_params = {'q': query, 'limit': 100}\n",
    "\n",
    "response_query_parameter = requests.get(url_for_search, params = search_params)\n",
    "response_query_parameter.status_code\n",
    "response_query_parameter.json().keys()"
   ]
  }
 ],
 "metadata": {
  "kernelspec": {
   "display_name": ".venv",
   "language": "python",
   "name": "python3"
  },
  "language_info": {
   "codemirror_mode": {
    "name": "ipython",
    "version": 3
   },
   "file_extension": ".py",
   "mimetype": "text/x-python",
   "name": "python",
   "nbconvert_exporter": "python",
   "pygments_lexer": "ipython3",
   "version": "3.12.6"
  }
 },
 "nbformat": 4,
 "nbformat_minor": 2
}
